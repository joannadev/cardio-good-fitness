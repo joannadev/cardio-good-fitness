{
 "cells": [
  {
   "cell_type": "code",
   "execution_count": 6,
   "id": "1d455eb4-70fe-4b9f-a1b3-2fce60d6c2b8",
   "metadata": {},
   "outputs": [],
   "source": [
    "import pandas as pd\n",
    "import matplotlib.pyplot as plt\n",
    "import numpy as np"
   ]
  },
  {
   "cell_type": "code",
   "execution_count": 7,
   "id": "6c3c84cc-cbf9-4c44-807d-701b7b36811e",
   "metadata": {},
   "outputs": [],
   "source": [
    "df = pd.read_csv(\"../data/CardioGoodFitness.csv\")"
   ]
  },
  {
   "cell_type": "markdown",
   "metadata": {},
   "source": [
    "test cell "
   ]
  },
  {
   "cell_type": "code",
   "execution_count": 8,
   "id": "60a5d38c-dc61-4933-b4fc-913e10d69e77",
   "metadata": {},
   "outputs": [
    {
     "data": {
      "text/html": [
       "<div>\n",
       "<style scoped>\n",
       "    .dataframe tbody tr th:only-of-type {\n",
       "        vertical-align: middle;\n",
       "    }\n",
       "\n",
       "    .dataframe tbody tr th {\n",
       "        vertical-align: top;\n",
       "    }\n",
       "\n",
       "    .dataframe thead th {\n",
       "        text-align: right;\n",
       "    }\n",
       "</style>\n",
       "<table border=\"1\" class=\"dataframe\">\n",
       "  <thead>\n",
       "    <tr style=\"text-align: right;\">\n",
       "      <th></th>\n",
       "      <th>Product</th>\n",
       "      <th>Age</th>\n",
       "      <th>Gender</th>\n",
       "      <th>Education</th>\n",
       "      <th>MaritalStatus</th>\n",
       "      <th>Usage</th>\n",
       "      <th>Fitness</th>\n",
       "      <th>Income</th>\n",
       "      <th>Miles</th>\n",
       "    </tr>\n",
       "  </thead>\n",
       "  <tbody>\n",
       "    <tr>\n",
       "      <th>175</th>\n",
       "      <td>TM798</td>\n",
       "      <td>40</td>\n",
       "      <td>Male</td>\n",
       "      <td>21</td>\n",
       "      <td>Single</td>\n",
       "      <td>6</td>\n",
       "      <td>5</td>\n",
       "      <td>83416</td>\n",
       "      <td>200</td>\n",
       "    </tr>\n",
       "    <tr>\n",
       "      <th>176</th>\n",
       "      <td>TM798</td>\n",
       "      <td>42</td>\n",
       "      <td>Male</td>\n",
       "      <td>18</td>\n",
       "      <td>Single</td>\n",
       "      <td>5</td>\n",
       "      <td>4</td>\n",
       "      <td>89641</td>\n",
       "      <td>200</td>\n",
       "    </tr>\n",
       "    <tr>\n",
       "      <th>177</th>\n",
       "      <td>TM798</td>\n",
       "      <td>45</td>\n",
       "      <td>Male</td>\n",
       "      <td>16</td>\n",
       "      <td>Single</td>\n",
       "      <td>5</td>\n",
       "      <td>5</td>\n",
       "      <td>90886</td>\n",
       "      <td>160</td>\n",
       "    </tr>\n",
       "    <tr>\n",
       "      <th>178</th>\n",
       "      <td>TM798</td>\n",
       "      <td>47</td>\n",
       "      <td>Male</td>\n",
       "      <td>18</td>\n",
       "      <td>Partnered</td>\n",
       "      <td>4</td>\n",
       "      <td>5</td>\n",
       "      <td>104581</td>\n",
       "      <td>120</td>\n",
       "    </tr>\n",
       "    <tr>\n",
       "      <th>179</th>\n",
       "      <td>TM798</td>\n",
       "      <td>48</td>\n",
       "      <td>Male</td>\n",
       "      <td>18</td>\n",
       "      <td>Partnered</td>\n",
       "      <td>4</td>\n",
       "      <td>5</td>\n",
       "      <td>95508</td>\n",
       "      <td>180</td>\n",
       "    </tr>\n",
       "  </tbody>\n",
       "</table>\n",
       "</div>"
      ],
      "text/plain": [
       "    Product  Age Gender  Education MaritalStatus  Usage  Fitness  Income  \\\n",
       "175   TM798   40   Male         21        Single      6        5   83416   \n",
       "176   TM798   42   Male         18        Single      5        4   89641   \n",
       "177   TM798   45   Male         16        Single      5        5   90886   \n",
       "178   TM798   47   Male         18     Partnered      4        5  104581   \n",
       "179   TM798   48   Male         18     Partnered      4        5   95508   \n",
       "\n",
       "     Miles  \n",
       "175    200  \n",
       "176    200  \n",
       "177    160  \n",
       "178    120  \n",
       "179    180  "
      ]
     },
     "execution_count": 8,
     "metadata": {},
     "output_type": "execute_result"
    }
   ],
   "source": [
    "df.tail()"
   ]
  },
  {
   "cell_type": "code",
   "execution_count": 9,
   "id": "dcc6ee25-4d3b-4a3f-92fe-8277bc61841f",
   "metadata": {},
   "outputs": [
    {
     "name": "stdout",
     "output_type": "stream",
     "text": [
      "<class 'pandas.core.frame.DataFrame'>\n",
      "RangeIndex: 180 entries, 0 to 179\n",
      "Data columns (total 9 columns):\n",
      " #   Column         Non-Null Count  Dtype \n",
      "---  ------         --------------  ----- \n",
      " 0   Product        180 non-null    object\n",
      " 1   Age            180 non-null    int64 \n",
      " 2   Gender         180 non-null    object\n",
      " 3   Education      180 non-null    int64 \n",
      " 4   MaritalStatus  180 non-null    object\n",
      " 5   Usage          180 non-null    int64 \n",
      " 6   Fitness        180 non-null    int64 \n",
      " 7   Income         180 non-null    int64 \n",
      " 8   Miles          180 non-null    int64 \n",
      "dtypes: int64(6), object(3)\n",
      "memory usage: 12.8+ KB\n"
     ]
    }
   ],
   "source": [
    "df.info()"
   ]
  },
  {
   "cell_type": "code",
   "execution_count": 10,
   "id": "12518658-0dcf-4ce0-8b72-071f0c1386a0",
   "metadata": {},
   "outputs": [
    {
     "data": {
      "text/plain": [
       "Age\n",
       "25    25\n",
       "23    18\n",
       "24    12\n",
       "26    12\n",
       "28     9\n",
       "35     8\n",
       "33     8\n",
       "30     7\n",
       "38     7\n",
       "21     7\n",
       "22     7\n",
       "27     7\n",
       "31     6\n",
       "34     6\n",
       "29     6\n",
       "20     5\n",
       "40     5\n",
       "32     4\n",
       "19     4\n",
       "48     2\n",
       "37     2\n",
       "45     2\n",
       "47     2\n",
       "46     1\n",
       "50     1\n",
       "18     1\n",
       "44     1\n",
       "43     1\n",
       "41     1\n",
       "39     1\n",
       "36     1\n",
       "42     1\n",
       "Name: count, dtype: int64"
      ]
     },
     "execution_count": 10,
     "metadata": {},
     "output_type": "execute_result"
    }
   ],
   "source": [
    "df['Age'].value_counts()"
   ]
  },
  {
   "cell_type": "code",
   "execution_count": 11,
   "id": "3207ceb1-fa81-402c-8dd8-7a6dc64c8d3d",
   "metadata": {},
   "outputs": [
    {
     "data": {
      "text/html": [
       "<div>\n",
       "<style scoped>\n",
       "    .dataframe tbody tr th:only-of-type {\n",
       "        vertical-align: middle;\n",
       "    }\n",
       "\n",
       "    .dataframe tbody tr th {\n",
       "        vertical-align: top;\n",
       "    }\n",
       "\n",
       "    .dataframe thead th {\n",
       "        text-align: right;\n",
       "    }\n",
       "</style>\n",
       "<table border=\"1\" class=\"dataframe\">\n",
       "  <thead>\n",
       "    <tr style=\"text-align: right;\">\n",
       "      <th></th>\n",
       "      <th>Age</th>\n",
       "      <th>Education</th>\n",
       "      <th>Usage</th>\n",
       "      <th>Fitness</th>\n",
       "      <th>Income</th>\n",
       "      <th>Miles</th>\n",
       "    </tr>\n",
       "  </thead>\n",
       "  <tbody>\n",
       "    <tr>\n",
       "      <th>Age</th>\n",
       "      <td>1.000000</td>\n",
       "      <td>0.280496</td>\n",
       "      <td>0.015064</td>\n",
       "      <td>0.061105</td>\n",
       "      <td>0.513414</td>\n",
       "      <td>0.036618</td>\n",
       "    </tr>\n",
       "    <tr>\n",
       "      <th>Education</th>\n",
       "      <td>0.280496</td>\n",
       "      <td>1.000000</td>\n",
       "      <td>0.395155</td>\n",
       "      <td>0.410581</td>\n",
       "      <td>0.625827</td>\n",
       "      <td>0.307284</td>\n",
       "    </tr>\n",
       "    <tr>\n",
       "      <th>Usage</th>\n",
       "      <td>0.015064</td>\n",
       "      <td>0.395155</td>\n",
       "      <td>1.000000</td>\n",
       "      <td>0.668606</td>\n",
       "      <td>0.519537</td>\n",
       "      <td>0.759130</td>\n",
       "    </tr>\n",
       "    <tr>\n",
       "      <th>Fitness</th>\n",
       "      <td>0.061105</td>\n",
       "      <td>0.410581</td>\n",
       "      <td>0.668606</td>\n",
       "      <td>1.000000</td>\n",
       "      <td>0.535005</td>\n",
       "      <td>0.785702</td>\n",
       "    </tr>\n",
       "    <tr>\n",
       "      <th>Income</th>\n",
       "      <td>0.513414</td>\n",
       "      <td>0.625827</td>\n",
       "      <td>0.519537</td>\n",
       "      <td>0.535005</td>\n",
       "      <td>1.000000</td>\n",
       "      <td>0.543473</td>\n",
       "    </tr>\n",
       "    <tr>\n",
       "      <th>Miles</th>\n",
       "      <td>0.036618</td>\n",
       "      <td>0.307284</td>\n",
       "      <td>0.759130</td>\n",
       "      <td>0.785702</td>\n",
       "      <td>0.543473</td>\n",
       "      <td>1.000000</td>\n",
       "    </tr>\n",
       "  </tbody>\n",
       "</table>\n",
       "</div>"
      ],
      "text/plain": [
       "                Age  Education     Usage   Fitness    Income     Miles\n",
       "Age        1.000000   0.280496  0.015064  0.061105  0.513414  0.036618\n",
       "Education  0.280496   1.000000  0.395155  0.410581  0.625827  0.307284\n",
       "Usage      0.015064   0.395155  1.000000  0.668606  0.519537  0.759130\n",
       "Fitness    0.061105   0.410581  0.668606  1.000000  0.535005  0.785702\n",
       "Income     0.513414   0.625827  0.519537  0.535005  1.000000  0.543473\n",
       "Miles      0.036618   0.307284  0.759130  0.785702  0.543473  1.000000"
      ]
     },
     "execution_count": 11,
     "metadata": {},
     "output_type": "execute_result"
    }
   ],
   "source": [
    "df.corr(method='pearson', numeric_only=True)"
   ]
  },
  {
   "cell_type": "code",
   "execution_count": null,
   "id": "478783b5-e50f-489d-92bc-406d2c7dc62a",
   "metadata": {},
   "outputs": [],
   "source": []
  },
  {
   "cell_type": "code",
   "execution_count": 12,
   "id": "96a3835c-c423-458d-b701-ab389a8ef428",
   "metadata": {},
   "outputs": [
    {
     "data": {
      "text/plain": [
       "array([4, 3, 2, 1, 5])"
      ]
     },
     "execution_count": 12,
     "metadata": {},
     "output_type": "execute_result"
    }
   ],
   "source": [
    "df['Fitness'].unique()"
   ]
  },
  {
   "cell_type": "code",
   "execution_count": 13,
   "id": "38c250a2-37e4-4c19-b464-9b3c9f046287",
   "metadata": {},
   "outputs": [
    {
     "data": {
      "text/plain": [
       "Income\n",
       "32973    3\n",
       "45480    3\n",
       "54576    3\n",
       "48891    2\n",
       "88396    2\n",
       "38658    2\n",
       "40932    2\n",
       "31836    2\n",
       "48556    2\n",
       "52302    2\n",
       "51165    2\n",
       "61006    1\n",
       "49801    1\n",
       "52290    1\n",
       "92131    1\n",
       "83416    1\n",
       "89641    1\n",
       "58516    1\n",
       "29562    1\n",
       "54781    1\n",
       "48658    1\n",
       "67083    1\n",
       "60261    1\n",
       "44343    1\n",
       "50028    1\n",
       "43206    1\n",
       "36384    1\n",
       "35247    1\n",
       "90886    1\n",
       "Name: count, dtype: int64"
      ]
     },
     "execution_count": 13,
     "metadata": {},
     "output_type": "execute_result"
    }
   ],
   "source": [
    "#df_partnered = df[df['MaritalStatus']=='Single'] #73 are single\n",
    "singel_men = df[(df['MaritalStatus']=='Single') & (df['Gender']=='Male')]\n",
    "singel_men = singel_men['Income'].value_counts()\n",
    "singel_men"
   ]
  },
  {
   "cell_type": "code",
   "execution_count": 14,
   "id": "05fc4b78-a1cd-435c-a675-38cef845d09a",
   "metadata": {},
   "outputs": [
    {
     "data": {
      "text/html": [
       "<div>\n",
       "<style scoped>\n",
       "    .dataframe tbody tr th:only-of-type {\n",
       "        vertical-align: middle;\n",
       "    }\n",
       "\n",
       "    .dataframe tbody tr th {\n",
       "        vertical-align: top;\n",
       "    }\n",
       "\n",
       "    .dataframe thead th {\n",
       "        text-align: right;\n",
       "    }\n",
       "</style>\n",
       "<table border=\"1\" class=\"dataframe\">\n",
       "  <thead>\n",
       "    <tr style=\"text-align: right;\">\n",
       "      <th></th>\n",
       "      <th>Product</th>\n",
       "      <th>Age</th>\n",
       "      <th>Gender</th>\n",
       "      <th>Education</th>\n",
       "      <th>MaritalStatus</th>\n",
       "      <th>Usage</th>\n",
       "      <th>Fitness</th>\n",
       "      <th>Income</th>\n",
       "      <th>Miles</th>\n",
       "    </tr>\n",
       "  </thead>\n",
       "  <tbody>\n",
       "    <tr>\n",
       "      <th>0</th>\n",
       "      <td>TM195</td>\n",
       "      <td>18</td>\n",
       "      <td>Male</td>\n",
       "      <td>14</td>\n",
       "      <td>Single</td>\n",
       "      <td>3</td>\n",
       "      <td>4</td>\n",
       "      <td>29562</td>\n",
       "      <td>112</td>\n",
       "    </tr>\n",
       "    <tr>\n",
       "      <th>1</th>\n",
       "      <td>TM195</td>\n",
       "      <td>19</td>\n",
       "      <td>Male</td>\n",
       "      <td>15</td>\n",
       "      <td>Single</td>\n",
       "      <td>2</td>\n",
       "      <td>3</td>\n",
       "      <td>31836</td>\n",
       "      <td>75</td>\n",
       "    </tr>\n",
       "    <tr>\n",
       "      <th>3</th>\n",
       "      <td>TM195</td>\n",
       "      <td>19</td>\n",
       "      <td>Male</td>\n",
       "      <td>12</td>\n",
       "      <td>Single</td>\n",
       "      <td>3</td>\n",
       "      <td>3</td>\n",
       "      <td>32973</td>\n",
       "      <td>85</td>\n",
       "    </tr>\n",
       "    <tr>\n",
       "      <th>4</th>\n",
       "      <td>TM195</td>\n",
       "      <td>20</td>\n",
       "      <td>Male</td>\n",
       "      <td>13</td>\n",
       "      <td>Partnered</td>\n",
       "      <td>4</td>\n",
       "      <td>2</td>\n",
       "      <td>35247</td>\n",
       "      <td>47</td>\n",
       "    </tr>\n",
       "    <tr>\n",
       "      <th>7</th>\n",
       "      <td>TM195</td>\n",
       "      <td>21</td>\n",
       "      <td>Male</td>\n",
       "      <td>13</td>\n",
       "      <td>Single</td>\n",
       "      <td>3</td>\n",
       "      <td>3</td>\n",
       "      <td>32973</td>\n",
       "      <td>85</td>\n",
       "    </tr>\n",
       "    <tr>\n",
       "      <th>...</th>\n",
       "      <td>...</td>\n",
       "      <td>...</td>\n",
       "      <td>...</td>\n",
       "      <td>...</td>\n",
       "      <td>...</td>\n",
       "      <td>...</td>\n",
       "      <td>...</td>\n",
       "      <td>...</td>\n",
       "      <td>...</td>\n",
       "    </tr>\n",
       "    <tr>\n",
       "      <th>175</th>\n",
       "      <td>TM798</td>\n",
       "      <td>40</td>\n",
       "      <td>Male</td>\n",
       "      <td>21</td>\n",
       "      <td>Single</td>\n",
       "      <td>6</td>\n",
       "      <td>5</td>\n",
       "      <td>83416</td>\n",
       "      <td>200</td>\n",
       "    </tr>\n",
       "    <tr>\n",
       "      <th>176</th>\n",
       "      <td>TM798</td>\n",
       "      <td>42</td>\n",
       "      <td>Male</td>\n",
       "      <td>18</td>\n",
       "      <td>Single</td>\n",
       "      <td>5</td>\n",
       "      <td>4</td>\n",
       "      <td>89641</td>\n",
       "      <td>200</td>\n",
       "    </tr>\n",
       "    <tr>\n",
       "      <th>177</th>\n",
       "      <td>TM798</td>\n",
       "      <td>45</td>\n",
       "      <td>Male</td>\n",
       "      <td>16</td>\n",
       "      <td>Single</td>\n",
       "      <td>5</td>\n",
       "      <td>5</td>\n",
       "      <td>90886</td>\n",
       "      <td>160</td>\n",
       "    </tr>\n",
       "    <tr>\n",
       "      <th>178</th>\n",
       "      <td>TM798</td>\n",
       "      <td>47</td>\n",
       "      <td>Male</td>\n",
       "      <td>18</td>\n",
       "      <td>Partnered</td>\n",
       "      <td>4</td>\n",
       "      <td>5</td>\n",
       "      <td>104581</td>\n",
       "      <td>120</td>\n",
       "    </tr>\n",
       "    <tr>\n",
       "      <th>179</th>\n",
       "      <td>TM798</td>\n",
       "      <td>48</td>\n",
       "      <td>Male</td>\n",
       "      <td>18</td>\n",
       "      <td>Partnered</td>\n",
       "      <td>4</td>\n",
       "      <td>5</td>\n",
       "      <td>95508</td>\n",
       "      <td>180</td>\n",
       "    </tr>\n",
       "  </tbody>\n",
       "</table>\n",
       "<p>104 rows × 9 columns</p>\n",
       "</div>"
      ],
      "text/plain": [
       "    Product  Age Gender  Education MaritalStatus  Usage  Fitness  Income  \\\n",
       "0     TM195   18   Male         14        Single      3        4   29562   \n",
       "1     TM195   19   Male         15        Single      2        3   31836   \n",
       "3     TM195   19   Male         12        Single      3        3   32973   \n",
       "4     TM195   20   Male         13     Partnered      4        2   35247   \n",
       "7     TM195   21   Male         13        Single      3        3   32973   \n",
       "..      ...  ...    ...        ...           ...    ...      ...     ...   \n",
       "175   TM798   40   Male         21        Single      6        5   83416   \n",
       "176   TM798   42   Male         18        Single      5        4   89641   \n",
       "177   TM798   45   Male         16        Single      5        5   90886   \n",
       "178   TM798   47   Male         18     Partnered      4        5  104581   \n",
       "179   TM798   48   Male         18     Partnered      4        5   95508   \n",
       "\n",
       "     Miles  \n",
       "0      112  \n",
       "1       75  \n",
       "3       85  \n",
       "4       47  \n",
       "7       85  \n",
       "..     ...  \n",
       "175    200  \n",
       "176    200  \n",
       "177    160  \n",
       "178    120  \n",
       "179    180  \n",
       "\n",
       "[104 rows x 9 columns]"
      ]
     },
     "execution_count": 14,
     "metadata": {},
     "output_type": "execute_result"
    }
   ],
   "source": [
    "df_women = df[df['Gender']=='Male'] # 76 people are women\n",
    "df_women"
   ]
  },
  {
   "cell_type": "code",
   "execution_count": 15,
   "id": "606e8725-7d2b-4af9-a48c-2f567f780059",
   "metadata": {},
   "outputs": [
    {
     "data": {
      "text/plain": [
       "array(['TM195', 'TM498', 'TM798'], dtype=object)"
      ]
     },
     "execution_count": 15,
     "metadata": {},
     "output_type": "execute_result"
    }
   ],
   "source": [
    "df['Product'].unique() #There are three different equipment"
   ]
  },
  {
   "cell_type": "code",
   "execution_count": 16,
   "id": "7357e503-80ef-4732-a1e5-120cd6d227f5",
   "metadata": {},
   "outputs": [
    {
     "data": {
      "text/plain": [
       "array([18, 19, 20, 21, 22, 23, 24, 25, 26, 27, 28, 29, 30, 31, 32, 33, 34,\n",
       "       35, 36, 37, 38, 39, 40, 41, 43, 44, 46, 47, 50, 45, 48, 42])"
      ]
     },
     "execution_count": 16,
     "metadata": {},
     "output_type": "execute_result"
    }
   ],
   "source": [
    "df['Age'].unique() # max age is 50, min is 18"
   ]
  },
  {
   "cell_type": "code",
   "execution_count": 17,
   "id": "eb149579-2b28-4ae1-b498-6e6b3c009fad",
   "metadata": {},
   "outputs": [
    {
     "data": {
      "text/plain": [
       "array([4, 3, 2, 1, 5])"
      ]
     },
     "execution_count": 17,
     "metadata": {},
     "output_type": "execute_result"
    }
   ],
   "source": [
    "df['Fitness'].unique() #fitness values goes from 1-5"
   ]
  },
  {
   "cell_type": "code",
   "execution_count": 18,
   "id": "fcd8da4b-f4de-43f7-b944-efe8f584f963",
   "metadata": {},
   "outputs": [
    {
     "data": {
      "text/plain": [
       "188"
      ]
     },
     "execution_count": 18,
     "metadata": {},
     "output_type": "execute_result"
    }
   ],
   "source": [
    "df_TM195 = df[df['Product']=='TM195'] #TM195 is most used\n",
    "df_TM195['Miles'].max()"
   ]
  },
  {
   "cell_type": "code",
   "execution_count": 19,
   "id": "ee77fffd-4d9e-42db-872d-8b266c470ff5",
   "metadata": {},
   "outputs": [
    {
     "data": {
      "text/plain": [
       "360"
      ]
     },
     "execution_count": 19,
     "metadata": {},
     "output_type": "execute_result"
    }
   ],
   "source": [
    "df_TM798 = df[df['Product']=='TM798'] #About equal for gender usage\n",
    "df_TM798['Miles'].max()"
   ]
  },
  {
   "cell_type": "code",
   "execution_count": 20,
   "id": "a1d63793-bb13-4525-8399-13993ca8ec1a",
   "metadata": {},
   "outputs": [
    {
     "data": {
      "text/plain": [
       "212"
      ]
     },
     "execution_count": 20,
     "metadata": {},
     "output_type": "execute_result"
    }
   ],
   "source": [
    "df_TM498 = df[df['Product']=='TM498'] #About equal for gender usage\n",
    "df_TM498['Miles'].max()"
   ]
  },
  {
   "cell_type": "code",
   "execution_count": 21,
   "id": "c3876f9e-6357-479c-b6e6-b39a895afe52",
   "metadata": {},
   "outputs": [
    {
     "name": "stdout",
     "output_type": "stream",
     "text": [
      "<class 'pandas.core.series.Series'>\n",
      "MultiIndex: 43 entries, ('TM195', 18, 'Male', 14, 'Single', 3, 4, 29562, 112) to ('TM798', 45, 'Male', 16, 'Single', 5, 5, 90886, 160)\n",
      "Series name: count\n",
      "Non-Null Count  Dtype\n",
      "--------------  -----\n",
      "43 non-null     int64\n",
      "dtypes: int64(1)\n",
      "memory usage: 1.9+ KB\n"
     ]
    }
   ],
   "source": [
    "female_p = df[(df['Gender'] == 'Male') & (df['MaritalStatus'] == 'Single')].value_counts()\n",
    "female_p.info()\n"
   ]
  },
  {
   "cell_type": "code",
   "execution_count": 22,
   "id": "c4064f8c-478c-4c7e-bfb9-4c5a29c0fe0f",
   "metadata": {},
   "outputs": [
    {
     "data": {
      "text/plain": [
       "array([22, 23, 24, 25, 26, 27, 28, 29, 30, 31, 33, 34, 35, 38, 40, 42, 45,\n",
       "       47, 48])"
      ]
     },
     "execution_count": 22,
     "metadata": {},
     "output_type": "execute_result"
    }
   ],
   "source": [
    "df_TM798 = df[df['Product']=='TM798'] #More males use this one \n",
    "df_TM798['Age'].unique()"
   ]
  },
  {
   "cell_type": "code",
   "execution_count": 23,
   "id": "cc7c0ca8-3f2f-4253-9d82-baccf4e8576a",
   "metadata": {},
   "outputs": [
    {
     "data": {
      "text/plain": [
       "Gender\n",
       "Male      104\n",
       "Female     76\n",
       "Name: count, dtype: int64"
      ]
     },
     "execution_count": 23,
     "metadata": {},
     "output_type": "execute_result"
    }
   ],
   "source": [
    "df['Gender'].value_counts()"
   ]
  },
  {
   "cell_type": "code",
   "execution_count": 24,
   "id": "976da565-ff8c-4d84-aacd-2be35e4dc698",
   "metadata": {},
   "outputs": [
    {
     "data": {
      "image/png": "[encoded data removed]",
      "text/plain": [
       "<Figure size 640x480 with 1 Axes>"
      ]
     },
     "metadata": {},
     "output_type": "display_data"
    }
   ],
   "source": [
    "import seaborn as sns\n",
    "import matplotlib.pyplot as plt\n",
    "#sns.violinplot(y=df['Age'])\n",
    "sns.violinplot(y=df_TM195['Age'])\n",
    "# Show the plot\n",
    "plt.show()"
   ]
  },
  {
   "cell_type": "code",
   "execution_count": 25,
   "id": "5cda5097-9e38-4214-a9ed-9481d9d4ff33",
   "metadata": {},
   "outputs": [
    {
     "name": "stdout",
     "output_type": "stream",
     "text": [
      "Mode of TM195 is [23]\n",
      "Mode of TM498 is [25]\n",
      "Mode of TM798 is [25]\n"
     ]
    }
   ],
   "source": [
    "print(f\"Mode of TM195 is {df_TM195['Age'].mode().values}\")\n",
    "print(f\"Mode of TM498 is {df_TM498['Age'].mode().values}\")\n",
    "print(f\"Mode of TM798 is {df_TM798['Age'].mode().values}\")"
   ]
  },
  {
   "cell_type": "code",
   "execution_count": 26,
   "id": "8db86b9b-db77-4f66-bc43-3a6612d8148a",
   "metadata": {},
   "outputs": [
    {
     "data": {
      "text/html": [
       "<div>\n",
       "<style scoped>\n",
       "    .dataframe tbody tr th:only-of-type {\n",
       "        vertical-align: middle;\n",
       "    }\n",
       "\n",
       "    .dataframe tbody tr th {\n",
       "        vertical-align: top;\n",
       "    }\n",
       "\n",
       "    .dataframe thead th {\n",
       "        text-align: right;\n",
       "    }\n",
       "</style>\n",
       "<table border=\"1\" class=\"dataframe\">\n",
       "  <thead>\n",
       "    <tr style=\"text-align: right;\">\n",
       "      <th></th>\n",
       "      <th>Age</th>\n",
       "      <th>Education</th>\n",
       "      <th>Usage</th>\n",
       "      <th>Fitness</th>\n",
       "      <th>Income</th>\n",
       "      <th>Miles</th>\n",
       "    </tr>\n",
       "  </thead>\n",
       "  <tbody>\n",
       "    <tr>\n",
       "      <th>count</th>\n",
       "      <td>180.000000</td>\n",
       "      <td>180.000000</td>\n",
       "      <td>180.000000</td>\n",
       "      <td>180.000000</td>\n",
       "      <td>180.000000</td>\n",
       "      <td>180.000000</td>\n",
       "    </tr>\n",
       "    <tr>\n",
       "      <th>mean</th>\n",
       "      <td>28.788889</td>\n",
       "      <td>15.572222</td>\n",
       "      <td>3.455556</td>\n",
       "      <td>3.311111</td>\n",
       "      <td>53719.577778</td>\n",
       "      <td>103.194444</td>\n",
       "    </tr>\n",
       "    <tr>\n",
       "      <th>std</th>\n",
       "      <td>6.943498</td>\n",
       "      <td>1.617055</td>\n",
       "      <td>1.084797</td>\n",
       "      <td>0.958869</td>\n",
       "      <td>16506.684226</td>\n",
       "      <td>51.863605</td>\n",
       "    </tr>\n",
       "    <tr>\n",
       "      <th>min</th>\n",
       "      <td>18.000000</td>\n",
       "      <td>12.000000</td>\n",
       "      <td>2.000000</td>\n",
       "      <td>1.000000</td>\n",
       "      <td>29562.000000</td>\n",
       "      <td>21.000000</td>\n",
       "    </tr>\n",
       "    <tr>\n",
       "      <th>25%</th>\n",
       "      <td>24.000000</td>\n",
       "      <td>14.000000</td>\n",
       "      <td>3.000000</td>\n",
       "      <td>3.000000</td>\n",
       "      <td>44058.750000</td>\n",
       "      <td>66.000000</td>\n",
       "    </tr>\n",
       "    <tr>\n",
       "      <th>50%</th>\n",
       "      <td>26.000000</td>\n",
       "      <td>16.000000</td>\n",
       "      <td>3.000000</td>\n",
       "      <td>3.000000</td>\n",
       "      <td>50596.500000</td>\n",
       "      <td>94.000000</td>\n",
       "    </tr>\n",
       "    <tr>\n",
       "      <th>75%</th>\n",
       "      <td>33.000000</td>\n",
       "      <td>16.000000</td>\n",
       "      <td>4.000000</td>\n",
       "      <td>4.000000</td>\n",
       "      <td>58668.000000</td>\n",
       "      <td>114.750000</td>\n",
       "    </tr>\n",
       "    <tr>\n",
       "      <th>max</th>\n",
       "      <td>50.000000</td>\n",
       "      <td>21.000000</td>\n",
       "      <td>7.000000</td>\n",
       "      <td>5.000000</td>\n",
       "      <td>104581.000000</td>\n",
       "      <td>360.000000</td>\n",
       "    </tr>\n",
       "  </tbody>\n",
       "</table>\n",
       "</div>"
      ],
      "text/plain": [
       "              Age   Education       Usage     Fitness         Income  \\\n",
       "count  180.000000  180.000000  180.000000  180.000000     180.000000   \n",
       "mean    28.788889   15.572222    3.455556    3.311111   53719.577778   \n",
       "std      6.943498    1.617055    1.084797    0.958869   16506.684226   \n",
       "min     18.000000   12.000000    2.000000    1.000000   29562.000000   \n",
       "25%     24.000000   14.000000    3.000000    3.000000   44058.750000   \n",
       "50%     26.000000   16.000000    3.000000    3.000000   50596.500000   \n",
       "75%     33.000000   16.000000    4.000000    4.000000   58668.000000   \n",
       "max     50.000000   21.000000    7.000000    5.000000  104581.000000   \n",
       "\n",
       "            Miles  \n",
       "count  180.000000  \n",
       "mean   103.194444  \n",
       "std     51.863605  \n",
       "min     21.000000  \n",
       "25%     66.000000  \n",
       "50%     94.000000  \n",
       "75%    114.750000  \n",
       "max    360.000000  "
      ]
     },
     "execution_count": 26,
     "metadata": {},
     "output_type": "execute_result"
    }
   ],
   "source": [
    "df.describe()"
   ]
  },
  {
   "cell_type": "code",
   "execution_count": 27,
   "id": "43783fcc-daf8-426c-a182-f684d565b1cb",
   "metadata": {},
   "outputs": [
    {
     "name": "stdout",
     "output_type": "stream",
     "text": [
      "Median age of TM195 is 26.0\n",
      "Median age of TM498 is 26.0\n",
      "Median age of TM798 is 27.0\n"
     ]
    }
   ],
   "source": [
    "print(f\"Median age of TM195 is {df_TM195['Age'].median()}\")\n",
    "print(f\"Median age of TM498 is {df_TM498['Age'].median()}\")\n",
    "print(f\"Median age of TM798 is {df_TM798['Age'].median()}\")"
   ]
  },
  {
   "cell_type": "code",
   "execution_count": 28,
   "id": "0f62f9a0-a967-42c2-9473-1176710c0ddf",
   "metadata": {},
   "outputs": [
    {
     "name": "stdout",
     "output_type": "stream",
     "text": [
      "Mode of TM195 education is [16]\n",
      "Mode of TM498 education is [16]\n",
      "Mode of TM798 education is [18]\n"
     ]
    }
   ],
   "source": [
    "print(f\"Mode of TM195 education is {df_TM195['Education'].mode().values}\")\n",
    "print(f\"Mode of TM498 education is {df_TM498['Education'].mode().values}\")\n",
    "print(f\"Mode of TM798 education is {df_TM798['Education'].mode().values}\")"
   ]
  },
  {
   "cell_type": "code",
   "execution_count": 29,
   "id": "dc36e652-c0f4-4182-909c-f5b13252a70b",
   "metadata": {},
   "outputs": [
    {
     "name": "stdout",
     "output_type": "stream",
     "text": [
      "Mode of usage TM195 is [3]\n",
      "Mode of usage TM498 is [3]\n",
      "Mode of usage TM798 is [4]\n"
     ]
    }
   ],
   "source": [
    "print(f\"Mode of usage TM195 is {df_TM195['Usage'].mode().values}\")\n",
    "print(f\"Mode of usage TM498 is {df_TM498['Usage'].mode().values}\")\n",
    "print(f\"Mode of usage TM798 is {df_TM798['Usage'].mode().values}\")"
   ]
  },
  {
   "cell_type": "code",
   "execution_count": 30,
   "id": "190b14c9-f504-44bc-9d49-dce344f8a9ff",
   "metadata": {},
   "outputs": [],
   "source": [
    "df_TM195_fm = df_TM195['Income'].mode().values\n",
    "df_TM498_fm = df_TM498['Income'].mode().values\n",
    "df_TM798_fm = df_TM798['Income'].mode().values"
   ]
  },
  {
   "cell_type": "code",
   "execution_count": 31,
   "id": "b752e7d0-7bac-4fa5-8140-36f5d986f5cb",
   "metadata": {},
   "outputs": [],
   "source": [
    "df_TM195_female = (df_TM195['Gender']=='Female').sum()\n",
    "df_TM195_male = (df_TM195['Gender']=='Male').sum()\n",
    "df_TM498_female = (df_TM498['Gender']=='Female').sum()\n",
    "df_TM498_male = (df_TM498['Gender']=='Male').sum()\n",
    "df_TM798_female = (df_TM798['Gender']=='Female').sum()\n",
    "df_TM798_male = (df_TM798['Gender']=='Male').sum()"
   ]
  },
  {
   "cell_type": "code",
   "execution_count": 32,
   "id": "9cfb0e51-6573-4450-95f5-16c6ed8bdb66",
   "metadata": {},
   "outputs": [
    {
     "ename": "NameError",
     "evalue": "name 'bar_width' is not defined",
     "output_type": "error",
     "traceback": [
      "\u001b[0;31m---------------------------------------------------------------------------\u001b[0m",
      "\u001b[0;31mNameError\u001b[0m                                 Traceback (most recent call last)",
      "Cell \u001b[0;32mIn[32], line 12\u001b[0m\n\u001b[1;32m     10\u001b[0m \u001b[38;5;66;03m# Position of bars on X-axis\u001b[39;00m\n\u001b[1;32m     11\u001b[0m r1 \u001b[38;5;241m=\u001b[39m \u001b[38;5;28mrange\u001b[39m(\u001b[38;5;28mlen\u001b[39m(labels))\n\u001b[0;32m---> 12\u001b[0m r2 \u001b[38;5;241m=\u001b[39m [x \u001b[38;5;241m+\u001b[39m bar_width \u001b[38;5;28;01mfor\u001b[39;00m x \u001b[38;5;129;01min\u001b[39;00m r1]\n\u001b[1;32m     13\u001b[0m plt\u001b[38;5;241m.\u001b[39mbar(r1, counts_female, color\u001b[38;5;241m=\u001b[39m\u001b[38;5;124m'\u001b[39m\u001b[38;5;124m#FF4500\u001b[39m\u001b[38;5;124m'\u001b[39m, width\u001b[38;5;241m=\u001b[39mbar_width, label\u001b[38;5;241m=\u001b[39m\u001b[38;5;124m'\u001b[39m\u001b[38;5;124mFemale\u001b[39m\u001b[38;5;124m'\u001b[39m)\n\u001b[1;32m     14\u001b[0m plt\u001b[38;5;241m.\u001b[39mbar(r2, counts_male, color\u001b[38;5;241m=\u001b[39m\u001b[38;5;124m'\u001b[39m\u001b[38;5;124m#1E90FF\u001b[39m\u001b[38;5;124m'\u001b[39m, width\u001b[38;5;241m=\u001b[39mbar_width, label\u001b[38;5;241m=\u001b[39m\u001b[38;5;124m'\u001b[39m\u001b[38;5;124mMale\u001b[39m\u001b[38;5;124m'\u001b[39m)\n",
      "Cell \u001b[0;32mIn[32], line 12\u001b[0m, in \u001b[0;36m<listcomp>\u001b[0;34m(.0)\u001b[0m\n\u001b[1;32m     10\u001b[0m \u001b[38;5;66;03m# Position of bars on X-axis\u001b[39;00m\n\u001b[1;32m     11\u001b[0m r1 \u001b[38;5;241m=\u001b[39m \u001b[38;5;28mrange\u001b[39m(\u001b[38;5;28mlen\u001b[39m(labels))\n\u001b[0;32m---> 12\u001b[0m r2 \u001b[38;5;241m=\u001b[39m [x \u001b[38;5;241m+\u001b[39m \u001b[43mbar_width\u001b[49m \u001b[38;5;28;01mfor\u001b[39;00m x \u001b[38;5;129;01min\u001b[39;00m r1]\n\u001b[1;32m     13\u001b[0m plt\u001b[38;5;241m.\u001b[39mbar(r1, counts_female, color\u001b[38;5;241m=\u001b[39m\u001b[38;5;124m'\u001b[39m\u001b[38;5;124m#FF4500\u001b[39m\u001b[38;5;124m'\u001b[39m, width\u001b[38;5;241m=\u001b[39mbar_width, label\u001b[38;5;241m=\u001b[39m\u001b[38;5;124m'\u001b[39m\u001b[38;5;124mFemale\u001b[39m\u001b[38;5;124m'\u001b[39m)\n\u001b[1;32m     14\u001b[0m plt\u001b[38;5;241m.\u001b[39mbar(r2, counts_male, color\u001b[38;5;241m=\u001b[39m\u001b[38;5;124m'\u001b[39m\u001b[38;5;124m#1E90FF\u001b[39m\u001b[38;5;124m'\u001b[39m, width\u001b[38;5;241m=\u001b[39mbar_width, label\u001b[38;5;241m=\u001b[39m\u001b[38;5;124m'\u001b[39m\u001b[38;5;124mMale\u001b[39m\u001b[38;5;124m'\u001b[39m)\n",
      "\u001b[0;31mNameError\u001b[0m: name 'bar_width' is not defined"
     ]
    },
    {
     "data": {
      "text/plain": [
       "<Figure size 800x600 with 0 Axes>"
      ]
     },
     "metadata": {},
     "output_type": "display_data"
    }
   ],
   "source": [
    "#Size\n",
    "plt.figure(figsize=(8,6))\n",
    "bar_with = 0.15\n",
    "\n",
    "# List of values and corresponding labels\n",
    "counts_female = [df_TM195_female, df_TM498_female, df_TM798_female]\n",
    "counts_male = [df_TM195_male, df_TM498_male, df_TM798_male]\n",
    "labels = ['TM195', 'TM498', 'TM798']\n",
    "\n",
    "# Position of bars on X-axis\n",
    "r1 = range(len(labels))\n",
    "r2 = [x + bar_width for x in r1]\n",
    "plt.bar(r1, counts_female, color='#FF4500', width=bar_width, label='Female')\n",
    "plt.bar(r2, counts_male, color='#1E90FF', width=bar_width, label='Male')\n",
    "\n",
    "plt.xlabel('Treadmill Models')\n",
    "plt.ylabel('Number of users')\n",
    "plt.title('Gender distribution Treadmill Models')\n",
    "\n",
    "#Make better ticks\n",
    "plt.xticks([r + bar_width / 2 for r in range(len(labels))], labels)\n",
    "\n",
    "#Add legend\n",
    "plt.legend()\n",
    "\n",
    "#plt.ylim()  # Adjust y-axis limits if needed\n",
    "plt.grid(axis='y', linestyle='--', alpha=0.7)\n",
    "plt.show()"
   ]
  },
  {
   "cell_type": "code",
   "execution_count": null,
   "id": "8c29eeea-a5fd-4c8e-a80e-bdde82fc6f16",
   "metadata": {},
   "outputs": [
    {
     "data": {
      "text/plain": [
       "Fitness\n",
       "3    26\n",
       "2    10\n",
       "4     3\n",
       "5     1\n",
       "Name: count, dtype: int64"
      ]
     },
     "execution_count": 29,
     "metadata": {},
     "output_type": "execute_result"
    }
   ],
   "source": [
    "df_TM195_fit_f = df_TM195[df_TM195['Gender']=='Female']['Fitness'].value_counts()\n",
    "df_TM195_fit_m = df_TM195[df_TM195['Gender']=='Male']['Fitness'].value_counts()\n",
    "df_TM498_fit_f = df_TM498[df_TM498['Gender']=='Female']['Fitness'].value_counts()\n",
    "df_TM498_fit_m = df_TM498[df_TM498['Gender']=='Male']['Fitness'].value_counts()\n",
    "df_TM798_fit_f = df_TM798[df_TM798['Gender']=='Female']['Fitness'].value_counts()\n",
    "df_TM798_fit_m = df_TM798[df_TM798['Gender']=='Male']['Fitness'].value_counts()\n",
    "df_TM195_fit_f"
   ]
  },
  {
   "cell_type": "code",
   "execution_count": null,
   "id": "b4e84c56-da43-45ae-a73b-c49ad9844fe5",
   "metadata": {},
   "outputs": [
    {
     "data": {
      "image/png": "[encoded data removed]",
      "text/plain": [
       "<Figure size 600x600 with 1 Axes>"
      ]
     },
     "metadata": {},
     "output_type": "display_data"
    }
   ],
   "source": [
    "import matplotlib.pyplot as plt\n",
    "import numpy as np\n",
    "\n",
    "# Data for TM798 and TM498 fitness level distribution for males\n",
    "fit_level = [1,2,3,4,5]\n",
    "M798_fit_level_Count = [0,0,3,6,24]\n",
    "M498_fit_level_Count = [0,0,4,6,21]\n",
    "M195_fit_level_Count = [1,4,28,6,1]\n",
    "F798_fit_level_Count = [0,0,1,1,5]\n",
    "F498_fit_level_Count = [1,6,18,4,0]\n",
    "F195_fit_level_Count = [0,10,26,3,1]\n",
    "\n",
    "# Size of the plot\n",
    "plt.figure(figsize=(6, 6))\n",
    "\n",
    "# Width of the bars\n",
    "bar_width = 0.15\n",
    "\n",
    "# Positions for the bars\n",
    "r1 = np.arange(len(fit_level))  # Generate evenly spaced values for the x-axis\n",
    "r2 = [x + bar_width for x in r1]      # Offset the x values for the second set of bars\n",
    "r3 = [x + 2*bar_width for x in r1]\n",
    "r4 = [x + 3*bar_width for x in r1]\n",
    "r5 = [x + 4*bar_width for x in r1]\n",
    "r6 = [x + 5*bar_width for x in r1]\n",
    "# Plotting the bars side by side\n",
    "#plt.bar(r1, M798_fit_level_Count, color='#C13700', width=bar_width, edgecolor='grey', label='Male TM798')\n",
    "#plt.bar(r2, M498_fit_level_Count, color='#E03E00', width=bar_width, edgecolor='grey', label='Male TM498')\n",
    "#plt.bar(r3, M195_fit_level_Count, color='#FF4500', width=bar_width, edgecolor='grey', label='Male TM198')\n",
    "\n",
    "plt.bar(r1, F798_fit_level_Count, color='#1446A0', width=bar_width, edgecolor='grey', label='Female TM798')\n",
    "plt.bar(r2, F498_fit_level_Count, color='#1C6FE9', width=bar_width, edgecolor='grey', label='Female TM498')\n",
    "plt.bar(r3, F195_fit_level_Count, color='#1E90FF', width=bar_width, edgecolor='grey', label='Female TM198')\n",
    "\n",
    "# Adding labels and title\n",
    "plt.xlabel('Fitness Levels')\n",
    "plt.ylabel('Number of People')\n",
    "plt.title('Gender and Fitness Distribution for Treadmill Models')\n",
    "\n",
    "# Adjusting x-axis ticks and labels\n",
    "plt.xticks(r1 + bar_width / 2, fit_level)\n",
    "\n",
    "# Adding legend\n",
    "plt.legend(loc='upper left')\n",
    "\n",
    "# Adding grid lines\n",
    "plt.grid(axis='y', linestyle='--', alpha=0.7)\n",
    "\n",
    "# Display the plot\n",
    "plt.tight_layout()\n",
    "plt.show()\n"
   ]
  },
  {
   "cell_type": "code",
   "execution_count": null,
   "id": "49412fe1-e3d0-4108-a798-c7b01f0c2c58",
   "metadata": {},
   "outputs": [],
   "source": []
  }
 ],
 "metadata": {
  "kernelspec": {
   "display_name": "Python 3 (ipykernel)",
   "language": "python",
   "name": "python3"
  },
  "language_info": {
   "codemirror_mode": {
    "name": "ipython",
    "version": 3
   },
   "file_extension": ".py",
   "mimetype": "text/x-python",
   "name": "python",
   "nbconvert_exporter": "python",
   "pygments_lexer": "ipython3",
   "version": "3.10.13"
  }
 },
 "nbformat": 4,
 "nbformat_minor": 5
}
